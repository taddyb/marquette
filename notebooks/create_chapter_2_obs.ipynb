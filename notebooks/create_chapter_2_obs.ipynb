{
 "cells": [
  {
   "cell_type": "code",
   "execution_count": 1,
   "metadata": {},
   "outputs": [],
   "source": [
    "import geopandas as gpd\n",
    "import pandas as pd\n",
    "import numpy as np\n",
    "from shapely.geometry import Point, LineString\n",
    "from tqdm.notebook import tqdm\n",
    "import matplotlib.pyplot as plt\n",
    "import zarr\n",
    "\n",
    "import warnings\n",
    "warnings.filterwarnings('ignore', category=UserWarning)"
   ]
  },
  {
   "cell_type": "code",
   "execution_count": 2,
   "metadata": {},
   "outputs": [],
   "source": [
    "riv = gpd.read_file(\"/projects/mhpi/data/MERIT/raw/continent/riv_pfaf_7_MERIT_Hydro_v07_Basins_v01_bugfix1.shp\")\n",
    "gages = gpd.read_file(\"/projects/mhpi/data/MERIT/gage_information/gage_flowline_intersections/gnn_dataset_v1_2.shp\").to_crs(\"EPSG:4326\")\n",
    "# gages = gpd.read_file(\"\")"
   ]
  },
  {
   "cell_type": "code",
   "execution_count": 6,
   "metadata": {},
   "outputs": [],
   "source": [
    "gages[\"STAID\"] = gages[\"STAID\"].astype(int)\n",
    "gages = gages.drop(columns=['lengthkm', 'lengthdir', 'sinuosity', 'slope',\n",
    "       'uparea', 'order_', 'strmDrop_t', 'slope_taud', 'NextDownID', 'maxup',\n",
    "       'up1', 'up2', 'up3', 'up4', 'BUFF_DIST', 'ORIG_FID', 'FID_riv__1'])"
   ]
  },
  {
   "cell_type": "code",
   "execution_count": 7,
   "metadata": {},
   "outputs": [],
   "source": [
    "gages.to_csv(\"/projects/mhpi/tbindas/marquette/marquette/conf/obs_ref/chapter_2_exp.csv\")"
   ]
  },
  {
   "cell_type": "code",
   "execution_count": null,
   "metadata": {},
   "outputs": [],
   "source": []
  }
 ],
 "metadata": {
  "kernelspec": {
   "display_name": "Python 3",
   "language": "python",
   "name": "python3"
  },
  "language_info": {
   "codemirror_mode": {
    "name": "ipython",
    "version": 3
   },
   "file_extension": ".py",
   "mimetype": "text/x-python",
   "name": "python",
   "nbconvert_exporter": "python",
   "pygments_lexer": "ipython3",
   "version": "3.11.9"
  }
 },
 "nbformat": 4,
 "nbformat_minor": 2
}
