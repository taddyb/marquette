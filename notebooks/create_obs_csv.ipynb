{
 "cells": [
  {
   "cell_type": "markdown",
   "metadata": {},
   "source": [
    "### Creating the obs_csv file\n",
    "#### Author: Tadd Bindas\n",
    "\n",
    "This file is meant to create the list of observations to be used in marquette when creating training basins "
   ]
  },
  {
   "cell_type": "code",
   "execution_count": 49,
   "metadata": {},
   "outputs": [],
   "source": [
    "import geopandas as gpd\n",
    "import pandas as pd\n",
    "import numpy as np\n",
    "from shapely.geometry import Point, LineString\n",
    "from tqdm.notebook import tqdm\n",
    "import matplotlib.pyplot as plt\n",
    "import zarr\n",
    "\n",
    "import warnings\n",
    "warnings.filterwarnings('ignore', category=UserWarning)"
   ]
  },
  {
   "cell_type": "code",
   "execution_count": 50,
   "metadata": {},
   "outputs": [],
   "source": [
    "riv = gpd.read_file(\"/Users/taddbindas/data/merit/riv_pfaf_7_MERIT_Hydro_v07_Basins_v01_bugfix1.shp\")\n",
    "gages = gpd.read_file(\"/Users/taddbindas/data/gages_3000/conus_3000_gages.gpkg\").to_crs(\"EPSG:4326\")\n",
    "sindex = riv.sindex"
   ]
  },
  {
   "cell_type": "code",
   "execution_count": 51,
   "metadata": {},
   "outputs": [],
   "source": [
    "def find_best_match(riv_gdf, point, drainage_area=None, buffer_dist = 0.01):\n",
    "    \"\"\"Finds the closest flowline to the point based on Drainage area and location\n",
    "    \"\"\"\n",
    "    bounds = point.buffer(buffer_dist).bounds\n",
    "    candidate_indices = list(sindex.intersection(bounds))\n",
    "    \n",
    "    if not candidate_indices:\n",
    "        return None, None, None\n",
    "    \n",
    "    candidates = riv_gdf.iloc[candidate_indices].copy()\n",
    "    candidates['distance'] = candidates.geometry.distance(point)\n",
    "    \n",
    "    if drainage_area is not None and drainage_area > 0:\n",
    "        candidates['area_diff_pct'] = abs(candidates['uparea'] - drainage_area) / drainage_area * 100\n",
    "        \n",
    "        # Combined score (weighted average of distance and area difference)\n",
    "        max_dist = candidates['distance'].max() or 1.0\n",
    "        candidates['score'] = (\n",
    "            0.3 * (candidates['distance'] / max_dist) + \n",
    "            0.7 * np.minimum(candidates['area_diff_pct'] / 100, 1.0)\n",
    "        )\n",
    "        \n",
    "        best_idx = candidates['score'].idxmin()\n",
    "        best_match = candidates.loc[best_idx]\n",
    "        area_diff_pct = best_match['area_diff_pct']\n",
    "    else:\n",
    "        # Just use distance if drainage area not available\n",
    "        best_idx = candidates['distance'].idxmin()\n",
    "        best_match = candidates.loc[best_idx]\n",
    "        area_diff_pct = None\n",
    "    \n",
    "    return best_idx, best_match['distance'], area_diff_pct"
   ]
  },
  {
   "cell_type": "code",
   "execution_count": 52,
   "metadata": {},
   "outputs": [
    {
     "name": "stdout",
     "output_type": "stream",
     "text": [
      "Matching gages to flowlines...\n"
     ]
    },
    {
     "data": {
      "application/vnd.jupyter.widget-view+json": {
       "model_id": "68dfb6a2197f44d893557983be660514",
       "version_major": 2,
       "version_minor": 0
      },
      "text/plain": [
       "0it [00:00, ?it/s]"
      ]
     },
     "metadata": {},
     "output_type": "display_data"
    },
    {
     "name": "stdout",
     "output_type": "stream",
     "text": [
      "\n",
      "Matching Summary:\n",
      "Total gages: 9067\n",
      "Total matched: 8787\n",
      "excellent matches: 4985\n",
      "good matches: 1604\n",
      "poor matches: 1158\n",
      "fair matches: 1040\n"
     ]
    }
   ],
   "source": [
    "print(\"Matching gages to flowlines...\")\n",
    "matches = []\n",
    "\n",
    "for idx, gage in tqdm(gages.iterrows()):\n",
    "    drainage_area = gage.get('DRAIN_SQKM')\n",
    "    \n",
    "    match_idx, distance, area_diff_pct = find_best_match(riv, gage.geometry, drainage_area)\n",
    "    \n",
    "    if match_idx is not None:\n",
    "        flowline = riv.loc[match_idx]\n",
    "        \n",
    "        # Determine match quality\n",
    "        if area_diff_pct is not None:\n",
    "            if distance < 0.001 and area_diff_pct < 10:  # Close match in both location and area\n",
    "                quality = 'excellent'\n",
    "            elif distance < 0.005 and area_diff_pct < 20:\n",
    "                quality = 'good'\n",
    "            elif distance < 0.01 and area_diff_pct < 50:\n",
    "                quality = 'fair'\n",
    "            else:\n",
    "                quality = 'poor'\n",
    "        else:\n",
    "            # Base quality only on distance\n",
    "            if distance < 0.001:\n",
    "                quality = 'distance_only_excellent'\n",
    "            elif distance < 0.005:\n",
    "                quality = 'distance_only_good'\n",
    "            else:\n",
    "                quality = 'distance_only_fair'\n",
    "        \n",
    "        match_data = {\n",
    "            'STAID': gage.get('STAID', str(idx)),\n",
    "            'STANAME': gage.get('STANAME', f\"Gage_{idx}\"),\n",
    "            'CLASS': gage.get('CLASS'),\n",
    "            'STATE': gage.get('STATE'),\n",
    "            'COMID': flowline.get('COMID', str(match_idx)),\n",
    "            'distance': distance,\n",
    "            'DRAIN_SQKM': drainage_area,\n",
    "            'flowline_drainage_area': flowline.get('uparea'),\n",
    "            'area_difference_pct': area_diff_pct,\n",
    "            'match_quality': quality\n",
    "        }\n",
    "        \n",
    "        matches.append(match_data)\n",
    "\n",
    "# Create DataFrame with matches\n",
    "matches_df = pd.DataFrame(matches)\n",
    "\n",
    "# Sort by quality and area difference\n",
    "if 'match_quality' in matches_df.columns and 'area_difference_pct' in matches_df.columns:\n",
    "    quality_order = {\n",
    "        'excellent': 0, \n",
    "        'good': 1, \n",
    "        'fair': 2, \n",
    "        'poor': 3,\n",
    "        'distance_only_excellent': 4,\n",
    "        'distance_only_good': 5,\n",
    "        'distance_only_fair': 6\n",
    "    }\n",
    "    matches_df['quality_rank'] = matches_df['match_quality'].map(quality_order)\n",
    "    matches_df = matches_df.sort_values(['quality_rank', 'area_difference_pct', 'distance'])\n",
    "else:\n",
    "    matches_df = matches_df.sort_values('distance')\n",
    "\n",
    "# Print summary\n",
    "print(\"\\nMatching Summary:\")\n",
    "print(f\"Total gages: {len(gages)}\")\n",
    "print(f\"Total matched: {len(matches_df)}\")\n",
    "\n",
    "if 'match_quality' in matches_df.columns:\n",
    "    quality_counts = matches_df['match_quality'].value_counts()\n",
    "    for quality, count in quality_counts.items():\n",
    "        print(f\"{quality} matches: {count}\")"
   ]
  },
  {
   "cell_type": "code",
   "execution_count": 53,
   "metadata": {},
   "outputs": [
    {
     "data": {
      "text/plain": [
       "(4985, 11)"
      ]
     },
     "metadata": {},
     "output_type": "display_data"
    },
    {
     "data": {
      "text/html": [
       "<div>\n",
       "<style scoped>\n",
       "    .dataframe tbody tr th:only-of-type {\n",
       "        vertical-align: middle;\n",
       "    }\n",
       "\n",
       "    .dataframe tbody tr th {\n",
       "        vertical-align: top;\n",
       "    }\n",
       "\n",
       "    .dataframe thead th {\n",
       "        text-align: right;\n",
       "    }\n",
       "</style>\n",
       "<table border=\"1\" class=\"dataframe\">\n",
       "  <thead>\n",
       "    <tr style=\"text-align: right;\">\n",
       "      <th></th>\n",
       "      <th>STAID</th>\n",
       "      <th>STANAME</th>\n",
       "      <th>CLASS</th>\n",
       "      <th>STATE</th>\n",
       "      <th>COMID</th>\n",
       "      <th>distance</th>\n",
       "      <th>DRAIN_SQKM</th>\n",
       "      <th>flowline_drainage_area</th>\n",
       "      <th>area_difference_pct</th>\n",
       "      <th>match_quality</th>\n",
       "      <th>quality_rank</th>\n",
       "    </tr>\n",
       "  </thead>\n",
       "  <tbody>\n",
       "    <tr>\n",
       "      <th>2606</th>\n",
       "      <td>09057500</td>\n",
       "      <td>BLUE RIVER BELOW GREEN MOUNTAIN RESERVOIR, CO.</td>\n",
       "      <td>Non-ref</td>\n",
       "      <td>CO</td>\n",
       "      <td>77006776</td>\n",
       "      <td>0.000249</td>\n",
       "      <td>1494.9400</td>\n",
       "      <td>1494.942711</td>\n",
       "      <td>0.000181</td>\n",
       "      <td>excellent</td>\n",
       "      <td>0</td>\n",
       "    </tr>\n",
       "    <tr>\n",
       "      <th>5983</th>\n",
       "      <td>02387500</td>\n",
       "      <td>OOSTANAULA RIVER AT RESACA, GA</td>\n",
       "      <td>Non-ref</td>\n",
       "      <td>GA</td>\n",
       "      <td>73011126</td>\n",
       "      <td>0.000446</td>\n",
       "      <td>4153.3170</td>\n",
       "      <td>4153.307263</td>\n",
       "      <td>0.000234</td>\n",
       "      <td>excellent</td>\n",
       "      <td>0</td>\n",
       "    </tr>\n",
       "    <tr>\n",
       "      <th>7546</th>\n",
       "      <td>01613000</td>\n",
       "      <td>POTOMAC RIVER AT HANCOCK, MD</td>\n",
       "      <td>Non-ref</td>\n",
       "      <td>MD</td>\n",
       "      <td>73005077</td>\n",
       "      <td>0.000889</td>\n",
       "      <td>10556.8200</td>\n",
       "      <td>10556.879872</td>\n",
       "      <td>0.000567</td>\n",
       "      <td>excellent</td>\n",
       "      <td>0</td>\n",
       "    </tr>\n",
       "    <tr>\n",
       "      <th>7851</th>\n",
       "      <td>01350101</td>\n",
       "      <td>SCHOHARIE CREEK AT GILBOA NY</td>\n",
       "      <td>Non-ref</td>\n",
       "      <td>NY</td>\n",
       "      <td>73003443</td>\n",
       "      <td>0.000161</td>\n",
       "      <td>817.1208</td>\n",
       "      <td>817.115991</td>\n",
       "      <td>0.000589</td>\n",
       "      <td>excellent</td>\n",
       "      <td>0</td>\n",
       "    </tr>\n",
       "    <tr>\n",
       "      <th>5478</th>\n",
       "      <td>03372500</td>\n",
       "      <td>SALT CREEK NEAR HARRODSBURG IND</td>\n",
       "      <td>Non-ref</td>\n",
       "      <td>IN</td>\n",
       "      <td>74038878</td>\n",
       "      <td>0.000273</td>\n",
       "      <td>1120.2530</td>\n",
       "      <td>1120.260203</td>\n",
       "      <td>0.000643</td>\n",
       "      <td>excellent</td>\n",
       "      <td>0</td>\n",
       "    </tr>\n",
       "  </tbody>\n",
       "</table>\n",
       "</div>"
      ],
      "text/plain": [
       "         STAID                                         STANAME    CLASS STATE  \\\n",
       "2606  09057500  BLUE RIVER BELOW GREEN MOUNTAIN RESERVOIR, CO.  Non-ref    CO   \n",
       "5983  02387500                  OOSTANAULA RIVER AT RESACA, GA  Non-ref    GA   \n",
       "7546  01613000                    POTOMAC RIVER AT HANCOCK, MD  Non-ref    MD   \n",
       "7851  01350101                    SCHOHARIE CREEK AT GILBOA NY  Non-ref    NY   \n",
       "5478  03372500                 SALT CREEK NEAR HARRODSBURG IND  Non-ref    IN   \n",
       "\n",
       "         COMID  distance  DRAIN_SQKM  flowline_drainage_area  \\\n",
       "2606  77006776  0.000249   1494.9400             1494.942711   \n",
       "5983  73011126  0.000446   4153.3170             4153.307263   \n",
       "7546  73005077  0.000889  10556.8200            10556.879872   \n",
       "7851  73003443  0.000161    817.1208              817.115991   \n",
       "5478  74038878  0.000273   1120.2530             1120.260203   \n",
       "\n",
       "      area_difference_pct match_quality  quality_rank  \n",
       "2606             0.000181     excellent             0  \n",
       "5983             0.000234     excellent             0  \n",
       "7546             0.000567     excellent             0  \n",
       "7851             0.000589     excellent             0  \n",
       "5478             0.000643     excellent             0  "
      ]
     },
     "execution_count": 53,
     "metadata": {},
     "output_type": "execute_result"
    }
   ],
   "source": [
    "display(matches_df[matches_df[\"match_quality\"] == \"excellent\"].shape)\n",
    "matches_df[matches_df[\"match_quality\"] == \"excellent\"].head()"
   ]
  },
  {
   "cell_type": "code",
   "execution_count": 45,
   "metadata": {},
   "outputs": [],
   "source": [
    "output_df = matches_df[matches_df[\"match_quality\"] == \"excellent\"]\n",
    "output_df.to_csv(\"/Users/taddbindas/data/merit/obs_5000.csv\")"
   ]
  },
  {
   "cell_type": "code",
   "execution_count": 58,
   "metadata": {},
   "outputs": [],
   "source": [
    "gages[gages[\"STAID\"].isin(output_df[\"STAID\"])].to_file(\"/Users/taddbindas/data/gages_3000/subset_conus_3000_gages.gpkg\")"
   ]
  },
  {
   "cell_type": "markdown",
   "metadata": {},
   "source": [
    "### See how many gauges are in our zarr store"
   ]
  },
  {
   "cell_type": "code",
   "execution_count": 47,
   "metadata": {},
   "outputs": [
    {
     "data": {
      "text/plain": [
       "<zarr.hierarchy.Group '/'>"
      ]
     },
     "execution_count": 47,
     "metadata": {},
     "output_type": "execute_result"
    }
   ],
   "source": [
    "root = zarr.open_group(\"/Users/taddbindas/projects/ddr/data/gages_9000.zarr\")\n",
    "root"
   ]
  },
  {
   "cell_type": "code",
   "execution_count": 48,
   "metadata": {},
   "outputs": [
    {
     "data": {
      "application/vnd.jupyter.widget-view+json": {
       "model_id": "4589c05186f5453ca9c237ad7fd04843",
       "version_major": 2,
       "version_minor": 0
      },
      "text/plain": [
       "0it [00:00, ?it/s]"
      ]
     },
     "metadata": {},
     "output_type": "display_data"
    },
    {
     "name": "stdout",
     "output_type": "stream",
     "text": [
      "4985 / 4985 present in the zarr store\n"
     ]
    }
   ],
   "source": [
    "not_arr = []\n",
    "in_arr = []\n",
    "for idx, gage in tqdm(output_df.iterrows()):\n",
    "    if gage[\"STAID\"].zfill(8) in root:\n",
    "        in_arr.append(idx)\n",
    "    else:\n",
    "        not_arr.append(idx)\n",
    "        \n",
    "print(f\"{len(in_arr)} / {len(output_df)} present in the zarr store\")"
   ]
  },
  {
   "cell_type": "code",
   "execution_count": null,
   "metadata": {},
   "outputs": [],
   "source": []
  }
 ],
 "metadata": {
  "kernelspec": {
   "display_name": ".venv",
   "language": "python",
   "name": "python3"
  },
  "language_info": {
   "codemirror_mode": {
    "name": "ipython",
    "version": 3
   },
   "file_extension": ".py",
   "mimetype": "text/x-python",
   "name": "python",
   "nbconvert_exporter": "python",
   "pygments_lexer": "ipython3",
   "version": "3.11.9"
  }
 },
 "nbformat": 4,
 "nbformat_minor": 2
}
