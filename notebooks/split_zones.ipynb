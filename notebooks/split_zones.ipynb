{
 "cells": [
  {
   "cell_type": "code",
   "execution_count": 1,
   "id": "7cc9d540-fa56-4237-9f32-67aabdf9e555",
   "metadata": {},
   "outputs": [],
   "source": [
    "from datetime import datetime\n",
    "import json\n",
    "import logging\n",
    "from pathlib import Path\n",
    "import re\n",
    "import time\n",
    "from typing import List, Tuple\n",
    "from tempfile import NamedTemporaryFile\n",
    "\n",
    "import dask.array as da\n",
    "from dask.diagnostics import ProgressBar\n",
    "from dask.distributed import Client, as_completed\n",
    "import dask_geopandas as dgd \n",
    "import hydra\n",
    "import geopandas as gpd\n",
    "import numpy as np\n",
    "from omegaconf import DictConfig, OmegaConf\n",
    "import pandas as pd\n",
    "from pyproj import CRS\n",
    "from tqdm.notebook import tqdm\n",
    "import xarray as xr\n",
    "import zarr"
   ]
  },
  {
   "cell_type": "code",
   "execution_count": 2,
   "id": "40cf3cdd-54b1-468f-a066-8e206c606870",
   "metadata": {},
   "outputs": [],
   "source": [
    "def split_gdf_into_pieces(gdf, n_pieces):\n",
    "    \"\"\"\n",
    "    Splits a GeoDataFrame into n nearly equal pieces.\n",
    "\n",
    "    Parameters\n",
    "    ----------\n",
    "    gdf : GeoDataFrame\n",
    "        The GeoDataFrame to split.\n",
    "    n_pieces : int\n",
    "        The number of pieces to split the gdf into.\n",
    "\n",
    "    Returns\n",
    "    -------\n",
    "    list of GeoDataFrame\n",
    "        A list containing the split GeoDataFrames.\n",
    "    \"\"\"\n",
    "    # Calculate the size of each split\n",
    "    split_size = len(gdf) // n_pieces  # Use floor division to get an integer result\n",
    "    \n",
    "    # Split the GeoDataFrame into n_pieces\n",
    "    gdf_splits = [gdf.iloc[i:i + split_size] for i in range(0, len(gdf), split_size)]\n",
    "    \n",
    "    # To handle any remainder, ensure all pieces are captured by adjusting the last piece\n",
    "    if len(gdf_splits) > n_pieces:\n",
    "        # Append the remainder to the last piece if more splits than n_pieces\n",
    "        gdf_splits[n_pieces-1] = pd.concat([gdf_splits[n_pieces-1], *gdf_splits[n_pieces:]])\n",
    "        gdf_splits = gdf_splits[:n_pieces]\n",
    "    \n",
    "    return gdf_splits"
   ]
  },
  {
   "cell_type": "code",
   "execution_count": null,
   "id": "98d6f910-d18f-4445-9965-6d626f5ec259",
   "metadata": {},
   "outputs": [
    {
     "data": {
      "application/vnd.jupyter.widget-view+json": {
       "model_id": "08acc32a3d01489b9852bfc9ab956096",
       "version_major": 2,
       "version_minor": 0
      },
      "text/plain": [
       "writing to zones:   0%|          | 0/8 [00:00<?, ?it/s]"
      ]
     },
     "metadata": {},
     "output_type": "display_data"
    },
    {
     "name": "stdout",
     "output_type": "stream",
     "text": [
      "Finished splitting and saving zone 71 shapefiles into 50 pieces.\n",
      "Finished splitting and saving zone 72 shapefiles into 50 pieces.\n",
      "Finished splitting and saving zone 73 shapefiles into 50 pieces.\n",
      "Finished splitting and saving zone 74 shapefiles into 50 pieces.\n",
      "Finished splitting and saving zone 75 shapefiles into 50 pieces.\n",
      "Finished splitting and saving zone 76 shapefiles into 50 pieces.\n",
      "Finished splitting and saving zone 77 shapefiles into 50 pieces.\n"
     ]
    }
   ],
   "source": [
    "zones = [71, 72, 73, 74, 75, 76, 77, 78]\n",
    "for zone in tqdm(zones, desc=\"writing to zones\"):\n",
    "    river_path = Path(\"/data/tkb5476/projects/marquette/data/HUC/buffered_flowlines/\") / f\"riv_pfaf_{zone}_ME_PairwiseBuffe2.shp\"\n",
    "    gdf = gpd.read_file(river_path).to_crs(epsg=4326)\n",
    "    gdf_pieces = split_gdf_into_pieces(gdf, 50)\n",
    "    \n",
    "    output_dir = Path(\"/data/tkb5476/projects/marquette/data/HUC/split_buffered_flowlines/\") / f\"riv_pfaf_{zone}_buff_split\"\n",
    "    output_dir.mkdir(parents=True, exist_ok=True)  # Ensure the output directory exists\n",
    "    \n",
    "    for idx, gdf_piece in enumerate(gdf_pieces, start=1):\n",
    "        output_path = output_dir / f\"split_{idx}.shp\"\n",
    "        gdf_piece.to_file(output_path)\n",
    "    \n",
    "    print(f\"Finished splitting and saving zone {zone} shapefiles into {len(gdf_pieces)} pieces.\")"
   ]
  },
  {
   "cell_type": "code",
   "execution_count": null,
   "id": "74f92082-6fc0-47e7-af26-c5bd939d4f85",
   "metadata": {},
   "outputs": [],
   "source": [
    "# Testing:\n",
    "split_path = Path(\"/data/tkb5476/projects/marquette/data/HUC/split_buffered_flowlines/riv_pfaf_71_buff_split/\")\n",
    "gpd.read_file(split_path / \"split_1.shp\").to_crs(epsg=4326).tail()"
   ]
  },
  {
   "cell_type": "code",
   "execution_count": null,
   "id": "4d9c1e2c-e15c-4cac-912b-b1994d974274",
   "metadata": {},
   "outputs": [],
   "source": [
    "gpd.read_file(split_path / \"split_2.shp\").to_crs(epsg=4326).head()"
   ]
  }
 ],
 "metadata": {
  "kernelspec": {
   "display_name": "Python 3 (ipykernel)",
   "language": "python",
   "name": "python3"
  },
  "language_info": {
   "codemirror_mode": {
    "name": "ipython",
    "version": 3
   },
   "file_extension": ".py",
   "mimetype": "text/x-python",
   "name": "python",
   "nbconvert_exporter": "python",
   "pygments_lexer": "ipython3",
   "version": "3.11.5"
  }
 },
 "nbformat": 4,
 "nbformat_minor": 5
}
