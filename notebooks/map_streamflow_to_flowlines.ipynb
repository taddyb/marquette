{
 "cells": [
  {
   "cell_type": "code",
   "execution_count": null,
   "id": "8de41b35-e266-43db-9513-5bab2ec17003",
   "metadata": {},
   "outputs": [],
   "source": [
    "import json\n",
    "import logging\n",
    "import multiprocessing\n",
    "from pathlib import Path\n",
    "from typing import Any, Dict, List, Tuple\n",
    "\n",
    "from dask.callbacks import Callback\n",
    "import dask.dataframe as dd\n",
    "from dask.diagnostics import ProgressBar\n",
    "import dask_geopandas as dg\n",
    "import geopandas as gpd\n",
    "import numpy as np\n",
    "from omegaconf import DictConfig, OmegaConf\n",
    "import pandas as pd\n",
    "from scipy.sparse import csr_matrix\n",
    "from shapely.geometry import LineString, MultiLineString, Point\n",
    "from tqdm import tqdm\n",
    "import utm\n",
    "import xarray as xr\n",
    "import zarr\n",
    "\n",
    "import sys\n",
    "sys.path.append(\"..\")\n",
    "\n",
    "log = logging.getLogger(__name__)\n",
    "\n",
    "from dask.distributed import Client\n",
    "\n",
    "client = Client(dashboard_address=':8989')\n",
    "client\n",
    "### TODO:\n",
    "# - Preprocessing functions for catchment area of MERIT basins\n",
    "# - Preprocessing function for flowline geometry (using custom UTM zones)\n",
    "# - Preprocess function for the number of edges (the DX/buffer)\n",
    "# - Create Edges"
   ]
  }
 ],
 "metadata": {
  "kernelspec": {
   "display_name": "Python 3 (ipykernel)",
   "language": "python",
   "name": "python3"
  },
  "language_info": {
   "codemirror_mode": {
    "name": "ipython",
    "version": 3
   },
   "file_extension": ".py",
   "mimetype": "text/x-python",
   "name": "python",
   "nbconvert_exporter": "python",
   "pygments_lexer": "ipython3",
   "version": "3.11.5"
  }
 },
 "nbformat": 4,
 "nbformat_minor": 5
}
